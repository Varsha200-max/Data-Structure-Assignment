{
 "cells": [
  {
   "cell_type": "code",
   "execution_count": null,
   "id": "8fa4627d-4c72-4124-abf8-c80d6cec40ea",
   "metadata": {},
   "outputs": [],
   "source": [
    "What are data structures, and why are they important ?\n",
    "--> Data structure is a way of organizing and storing data in a computer so that it can be accessed and used efficiently."
   ]
  }
 ],
 "metadata": {
  "kernelspec": {
   "display_name": "Python 3 (ipykernel)",
   "language": "python",
   "name": "python3"
  },
  "language_info": {
   "codemirror_mode": {
    "name": "ipython",
    "version": 3
   },
   "file_extension": ".py",
   "mimetype": "text/x-python",
   "name": "python",
   "nbconvert_exporter": "python",
   "pygments_lexer": "ipython3",
   "version": "3.12.7"
  }
 },
 "nbformat": 4,
 "nbformat_minor": 5
}
